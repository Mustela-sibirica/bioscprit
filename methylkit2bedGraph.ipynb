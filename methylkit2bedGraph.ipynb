{
 "cells": [
  {
   "cell_type": "code",
   "execution_count": 1,
   "metadata": {},
   "outputs": [],
   "source": [
    "def methylkit2bedGraph(file, bed_file):\n",
    "    with open(file, 'r') as f:\n",
    "        f_bed = open(bed_file, 'w')\n",
    "        for line in f.readlines():\n",
    "            line_list = line.strip().split('\\t')\n",
    "            if line_list[0] == 'chrBase':\n",
    "                continue\n",
    "            chrome = line_list[1]\n",
    "            position = line_list[2]\n",
    "            beta = line_list[5]\n",
    "            bed_line = \"\\t\".join([chrome, str(int(position)-1),  position, beta]) + '\\n'\n",
    "            f_bed.write(bed_line)\n",
    "    f_bed.close()"
   ]
  },
  {
   "cell_type": "code",
   "execution_count": 21,
   "metadata": {},
   "outputs": [],
   "source": [
    "sample_list = ['CK_1', 'CK_2', '75_1', '75_2']\n",
    "type_list = ['CHG', 'CHH']\n",
    "dirc = 'F:/NaCl-BS/'\n",
    "for sample in sample_list:\n",
    "    for ty in type_list:\n",
    "        file = dirc + sample + '_' + ty + '.sort.txt'\n",
    "        bed_file  = dirc + sample + '_' + ty + '.bedGraph'\n",
    "        methylkit2bedGraph(file, bed_file)"
   ]
  },
  {
   "cell_type": "code",
   "execution_count": 2,
   "metadata": {},
   "outputs": [],
   "source": [
    "sample_list = ['CK_2', '75_1']\n",
    "type_list = ['CpG']\n",
    "dirc = 'F:/NaCl-BS/'\n",
    "for sample in sample_list:\n",
    "    for ty in type_list:\n",
    "        file = dirc + sample + '_' + ty + '.sort.txt'\n",
    "        bed_file  = dirc + sample + '_' + ty + '.bedGraph'\n",
    "        methylkit2bedGraph(file, bed_file)"
   ]
  },
  {
   "cell_type": "code",
   "execution_count": 3,
   "metadata": {},
   "outputs": [],
   "source": [
    "sample_list = ['Salt']\n",
    "type_list = ['CpG', 'CHG', 'CHH']\n",
    "dirc = 'F:/NaCl-BS/methylKit/'\n",
    "for sample in sample_list:\n",
    "    for ty in type_list:\n",
    "        file = dirc + sample + '_' + ty + '.sort.txt'\n",
    "        bed_file  = dirc + sample + '_' + ty + '.bedGraph'\n",
    "        methylkit2bedGraph(file, bed_file)"
   ]
  },
  {
   "cell_type": "code",
   "execution_count": null,
   "metadata": {},
   "outputs": [],
   "source": []
  }
 ],
 "metadata": {
  "kernelspec": {
   "display_name": "keras",
   "language": "python",
   "name": "keras"
  },
  "language_info": {
   "codemirror_mode": {
    "name": "ipython",
    "version": 3
   },
   "file_extension": ".py",
   "mimetype": "text/x-python",
   "name": "python",
   "nbconvert_exporter": "python",
   "pygments_lexer": "ipython3",
   "version": "3.6.6"
  }
 },
 "nbformat": 4,
 "nbformat_minor": 2
}
